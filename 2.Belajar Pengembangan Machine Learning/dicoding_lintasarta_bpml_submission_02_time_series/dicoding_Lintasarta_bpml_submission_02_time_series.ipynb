{
  "nbformat": 4,
  "nbformat_minor": 0,
  "metadata": {
    "colab": {
      "name": "dicoding Lintasarta_bpml_submission_02_time series.ipynb",
      "provenance": [],
      "collapsed_sections": []
    },
    "kernelspec": {
      "name": "python3",
      "display_name": "Python 3"
    },
    "language_info": {
      "name": "python"
    }
  },
  "cells": [
    {
      "cell_type": "markdown",
      "metadata": {
        "id": "YKVv6WN-r-ol"
      },
      "source": [
        "Time Series \n",
        "Gold Price in USD "
      ]
    },
    {
      "cell_type": "code",
      "metadata": {
        "id": "67Y14LSEqIvS"
      },
      "source": [
        "!pip install -q kaggle"
      ],
      "execution_count": 36,
      "outputs": []
    },
    {
      "cell_type": "code",
      "metadata": {
        "colab": {
          "resources": {
            "http://localhost:8080/nbextensions/google.colab/files.js": {
              "data": "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",
              "ok": true,
              "headers": [
                [
                  "content-type",
                  "application/javascript"
                ]
              ],
              "status": 200,
              "status_text": ""
            }
          },
          "base_uri": "https://localhost:8080/",
          "height": 110
        },
        "id": "vbfxcVpLqXPB",
        "outputId": "ceaaf1d6-5696-47d4-b63e-68263a07af8c"
      },
      "source": [
        "from google.colab import files\n",
        "files.upload()"
      ],
      "execution_count": 93,
      "outputs": [
        {
          "output_type": "display_data",
          "data": {
            "text/html": [
              "\n",
              "     <input type=\"file\" id=\"files-371caaf4-32b9-49ff-9540-32cfcaf75071\" name=\"files[]\" multiple disabled\n",
              "        style=\"border:none\" />\n",
              "     <output id=\"result-371caaf4-32b9-49ff-9540-32cfcaf75071\">\n",
              "      Upload widget is only available when the cell has been executed in the\n",
              "      current browser session. Please rerun this cell to enable.\n",
              "      </output>\n",
              "      <script src=\"/nbextensions/google.colab/files.js\"></script> "
            ],
            "text/plain": [
              "<IPython.core.display.HTML object>"
            ]
          },
          "metadata": {
            "tags": []
          }
        },
        {
          "output_type": "stream",
          "text": [
            "Saving kaggle.json to kaggle.json\n"
          ],
          "name": "stdout"
        },
        {
          "output_type": "execute_result",
          "data": {
            "text/plain": [
              "{'kaggle.json': b'{\"username\":\"bayusulistiyawan\",\"key\":\"ac683652beff2450b83ea3404d402ca1\"}'}"
            ]
          },
          "metadata": {
            "tags": []
          },
          "execution_count": 93
        }
      ]
    },
    {
      "cell_type": "code",
      "metadata": {
        "colab": {
          "base_uri": "https://localhost:8080/"
        },
        "id": "1RfeF1EAqa8o",
        "outputId": "1621c531-9be0-4550-ebf5-e86945d7fb40"
      },
      "source": [
        "!mkdir -p ~/.kaggle\n",
        "!cp kaggle.json ~/.kaggle/\n",
        "!chmod 600 ~/.kaggle/kaggle.json\n",
        "!ls ~/.kaggle"
      ],
      "execution_count": 94,
      "outputs": [
        {
          "output_type": "stream",
          "text": [
            "kaggle.json\n"
          ],
          "name": "stdout"
        }
      ]
    },
    {
      "cell_type": "code",
      "metadata": {
        "colab": {
          "base_uri": "https://localhost:8080/"
        },
        "id": "jqDp8hvfqdrH",
        "outputId": "0f6fd5f1-47a4-4b95-b8be-779e49357653"
      },
      "source": [
        "!kaggle datasets download -d sonukiller99/gold-price-from-1978-till-2020-in-24-currencies"
      ],
      "execution_count": 105,
      "outputs": [
        {
          "output_type": "stream",
          "text": [
            "Downloading gold-price-from-1978-till-2020-in-24-currencies.zip to /content\n",
            "\r  0% 0.00/2.03M [00:00<?, ?B/s]\n",
            "\r100% 2.03M/2.03M [00:00<00:00, 67.7MB/s]\n"
          ],
          "name": "stdout"
        }
      ]
    },
    {
      "cell_type": "code",
      "metadata": {
        "colab": {
          "base_uri": "https://localhost:8080/"
        },
        "id": "7aVYpp1bqfdq",
        "outputId": "44de1132-2387-429b-9c45-f2c9a54d14cf"
      },
      "source": [
        "!mkdir goldprice\n",
        "!unzip gold-price-from-1978-till-2020-in-24-currencies.zip -d goldprice\n",
        "!ls goldprice"
      ],
      "execution_count": 114,
      "outputs": [
        {
          "output_type": "stream",
          "text": [
            "Archive:  gold-price-from-1978-till-2020-in-24-currencies.zip\n",
            "  inflating: goldprice/Gold_Prices.xlsx  \n",
            "Gold_Prices.xlsx\n"
          ],
          "name": "stdout"
        }
      ]
    },
    {
      "cell_type": "code",
      "metadata": {
        "id": "XD44Ms0MqhuW"
      },
      "source": [
        "import pandas as pd\n",
        "import matplotlib.pyplot as plt\n",
        "import tensorflow as tf\n",
        "from sklearn.model_selection import train_test_split\n",
        "from keras.layers import Dense, LSTM"
      ],
      "execution_count": 115,
      "outputs": []
    },
    {
      "cell_type": "code",
      "metadata": {
        "colab": {
          "base_uri": "https://localhost:8080/",
          "height": 341
        },
        "id": "hvD10IZCqovX",
        "outputId": "0bf6a655-bbc3-411f-917a-728562af7017"
      },
      "source": [
        "#load datashet\n",
        "df=pd.read_excel('goldprice/Gold_Prices.xlsx')\n",
        "df.head()"
      ],
      "execution_count": 116,
      "outputs": [
        {
          "output_type": "execute_result",
          "data": {
            "text/html": [
              "<div>\n",
              "<style scoped>\n",
              "    .dataframe tbody tr th:only-of-type {\n",
              "        vertical-align: middle;\n",
              "    }\n",
              "\n",
              "    .dataframe tbody tr th {\n",
              "        vertical-align: top;\n",
              "    }\n",
              "\n",
              "    .dataframe thead th {\n",
              "        text-align: right;\n",
              "    }\n",
              "</style>\n",
              "<table border=\"1\" class=\"dataframe\">\n",
              "  <thead>\n",
              "    <tr style=\"text-align: right;\">\n",
              "      <th></th>\n",
              "      <th>Name</th>\n",
              "      <th>US dollar</th>\n",
              "      <th>Euro</th>\n",
              "      <th>Japanese yen</th>\n",
              "      <th>Pound sterling</th>\n",
              "      <th>Canadian dollar</th>\n",
              "      <th>Swiss franc</th>\n",
              "      <th>Indian rupee</th>\n",
              "      <th>Chinese renmimbi</th>\n",
              "      <th>US dollar.1</th>\n",
              "      <th>Turkish lira</th>\n",
              "      <th>Saudi riyal</th>\n",
              "      <th>Indonesian rupiah</th>\n",
              "      <th>UAE dirham</th>\n",
              "      <th>Thai baht</th>\n",
              "      <th>Vietnamese dong</th>\n",
              "      <th>Egyptian pound</th>\n",
              "      <th>Korean won</th>\n",
              "      <th>Euro.1</th>\n",
              "      <th>Russian ruble</th>\n",
              "      <th>US dollar.2</th>\n",
              "      <th>South African rand</th>\n",
              "      <th>Chinese renmimbi.1</th>\n",
              "      <th>Canadian dollar.1</th>\n",
              "      <th>Australian dollar</th>\n",
              "    </tr>\n",
              "  </thead>\n",
              "  <tbody>\n",
              "    <tr>\n",
              "      <th>0</th>\n",
              "      <td>1978-12-29</td>\n",
              "      <td>226.00</td>\n",
              "      <td>137.06</td>\n",
              "      <td>NaN</td>\n",
              "      <td>110.70</td>\n",
              "      <td>NaN</td>\n",
              "      <td>NaN</td>\n",
              "      <td>NaN</td>\n",
              "      <td>NaN</td>\n",
              "      <td>226.00</td>\n",
              "      <td>NaN</td>\n",
              "      <td>NaN</td>\n",
              "      <td>NaN</td>\n",
              "      <td>NaN</td>\n",
              "      <td>NaN</td>\n",
              "      <td>NaN</td>\n",
              "      <td>NaN</td>\n",
              "      <td>NaN</td>\n",
              "      <td>137.06</td>\n",
              "      <td>NaN</td>\n",
              "      <td>226.00</td>\n",
              "      <td>NaN</td>\n",
              "      <td>NaN</td>\n",
              "      <td>NaN</td>\n",
              "      <td>NaN</td>\n",
              "    </tr>\n",
              "    <tr>\n",
              "      <th>1</th>\n",
              "      <td>1979-01-01</td>\n",
              "      <td>226.00</td>\n",
              "      <td>137.06</td>\n",
              "      <td>NaN</td>\n",
              "      <td>110.70</td>\n",
              "      <td>NaN</td>\n",
              "      <td>NaN</td>\n",
              "      <td>NaN</td>\n",
              "      <td>NaN</td>\n",
              "      <td>226.00</td>\n",
              "      <td>NaN</td>\n",
              "      <td>NaN</td>\n",
              "      <td>NaN</td>\n",
              "      <td>NaN</td>\n",
              "      <td>NaN</td>\n",
              "      <td>NaN</td>\n",
              "      <td>NaN</td>\n",
              "      <td>NaN</td>\n",
              "      <td>137.06</td>\n",
              "      <td>NaN</td>\n",
              "      <td>226.00</td>\n",
              "      <td>NaN</td>\n",
              "      <td>NaN</td>\n",
              "      <td>NaN</td>\n",
              "      <td>NaN</td>\n",
              "    </tr>\n",
              "    <tr>\n",
              "      <th>2</th>\n",
              "      <td>1979-01-02</td>\n",
              "      <td>226.80</td>\n",
              "      <td>137.29</td>\n",
              "      <td>43164.91</td>\n",
              "      <td>111.45</td>\n",
              "      <td>263.74</td>\n",
              "      <td>359.62</td>\n",
              "      <td>1792.85</td>\n",
              "      <td>NaN</td>\n",
              "      <td>226.80</td>\n",
              "      <td>NaN</td>\n",
              "      <td>735.60</td>\n",
              "      <td>138160.45</td>\n",
              "      <td>851.29</td>\n",
              "      <td>4454.55</td>\n",
              "      <td>NaN</td>\n",
              "      <td>NaN</td>\n",
              "      <td>107470.04</td>\n",
              "      <td>137.29</td>\n",
              "      <td>NaN</td>\n",
              "      <td>226.80</td>\n",
              "      <td>194.56</td>\n",
              "      <td>NaN</td>\n",
              "      <td>263.74</td>\n",
              "      <td>193.61</td>\n",
              "    </tr>\n",
              "    <tr>\n",
              "      <th>3</th>\n",
              "      <td>1979-01-03</td>\n",
              "      <td>218.60</td>\n",
              "      <td>134.01</td>\n",
              "      <td>43717.90</td>\n",
              "      <td>107.98</td>\n",
              "      <td>264.39</td>\n",
              "      <td>365.87</td>\n",
              "      <td>1802.15</td>\n",
              "      <td>NaN</td>\n",
              "      <td>218.60</td>\n",
              "      <td>NaN</td>\n",
              "      <td>739.42</td>\n",
              "      <td>138877.01</td>\n",
              "      <td>855.71</td>\n",
              "      <td>4477.66</td>\n",
              "      <td>NaN</td>\n",
              "      <td>NaN</td>\n",
              "      <td>108027.43</td>\n",
              "      <td>134.01</td>\n",
              "      <td>NaN</td>\n",
              "      <td>218.60</td>\n",
              "      <td>192.23</td>\n",
              "      <td>NaN</td>\n",
              "      <td>264.39</td>\n",
              "      <td>192.97</td>\n",
              "    </tr>\n",
              "    <tr>\n",
              "      <th>4</th>\n",
              "      <td>1979-01-04</td>\n",
              "      <td>223.15</td>\n",
              "      <td>136.79</td>\n",
              "      <td>43674.89</td>\n",
              "      <td>110.66</td>\n",
              "      <td>264.14</td>\n",
              "      <td>366.38</td>\n",
              "      <td>1811.74</td>\n",
              "      <td>NaN</td>\n",
              "      <td>223.15</td>\n",
              "      <td>NaN</td>\n",
              "      <td>743.36</td>\n",
              "      <td>139616.26</td>\n",
              "      <td>860.26</td>\n",
              "      <td>4501.49</td>\n",
              "      <td>NaN</td>\n",
              "      <td>NaN</td>\n",
              "      <td>108602.47</td>\n",
              "      <td>136.79</td>\n",
              "      <td>NaN</td>\n",
              "      <td>223.15</td>\n",
              "      <td>193.01</td>\n",
              "      <td>NaN</td>\n",
              "      <td>264.14</td>\n",
              "      <td>194.55</td>\n",
              "    </tr>\n",
              "  </tbody>\n",
              "</table>\n",
              "</div>"
            ],
            "text/plain": [
              "        Name  US dollar  ...  Canadian dollar.1  Australian dollar\n",
              "0 1978-12-29     226.00  ...                NaN                NaN\n",
              "1 1979-01-01     226.00  ...                NaN                NaN\n",
              "2 1979-01-02     226.80  ...             263.74             193.61\n",
              "3 1979-01-03     218.60  ...             264.39             192.97\n",
              "4 1979-01-04     223.15  ...             264.14             194.55\n",
              "\n",
              "[5 rows x 25 columns]"
            ]
          },
          "metadata": {
            "tags": []
          },
          "execution_count": 116
        }
      ]
    },
    {
      "cell_type": "code",
      "metadata": {
        "colab": {
          "base_uri": "https://localhost:8080/"
        },
        "id": "EjeM9P3NqsWm",
        "outputId": "5ee1d46a-204c-4c52-cb67-b4ecb70f045b"
      },
      "source": [
        "df.shape"
      ],
      "execution_count": 117,
      "outputs": [
        {
          "output_type": "execute_result",
          "data": {
            "text/plain": [
              "(10901, 25)"
            ]
          },
          "metadata": {
            "tags": []
          },
          "execution_count": 117
        }
      ]
    },
    {
      "cell_type": "code",
      "metadata": {
        "colab": {
          "base_uri": "https://localhost:8080/"
        },
        "id": "A82YkOKgsg0g",
        "outputId": "4e9bc0b0-6bcb-4f76-ee14-e71ab84193b2"
      },
      "source": [
        "df.info()"
      ],
      "execution_count": 118,
      "outputs": [
        {
          "output_type": "stream",
          "text": [
            "<class 'pandas.core.frame.DataFrame'>\n",
            "RangeIndex: 10901 entries, 0 to 10900\n",
            "Data columns (total 25 columns):\n",
            " #   Column              Non-Null Count  Dtype         \n",
            "---  ------              --------------  -----         \n",
            " 0   Name                10901 non-null  datetime64[ns]\n",
            " 1   US dollar           10901 non-null  float64       \n",
            " 2   Euro                10901 non-null  float64       \n",
            " 3   Japanese yen        10899 non-null  float64       \n",
            " 4   Pound sterling      10901 non-null  float64       \n",
            " 5   Canadian dollar     10899 non-null  float64       \n",
            " 6   Swiss franc         10899 non-null  float64       \n",
            " 7   Indian rupee        10899 non-null  float64       \n",
            " 8   Chinese renmimbi    9330 non-null   float64       \n",
            " 9   US dollar.1         10901 non-null  float64       \n",
            " 10  Turkish lira        9856 non-null   float64       \n",
            " 11  Saudi riyal         10899 non-null  float64       \n",
            " 12  Indonesian rupiah   10899 non-null  float64       \n",
            " 13  UAE dirham          10899 non-null  float64       \n",
            " 14  Thai baht           10899 non-null  float64       \n",
            " 15  Vietnamese dong     8050 non-null   float64       \n",
            " 16  Egyptian pound      8310 non-null   float64       \n",
            " 17  Korean won          10899 non-null  float64       \n",
            " 18  Euro.1              10901 non-null  float64       \n",
            " 19  Russian ruble       7240 non-null   float64       \n",
            " 20  US dollar.2         10901 non-null  float64       \n",
            " 21  South African rand  10899 non-null  float64       \n",
            " 22  Chinese renmimbi.1  9330 non-null   float64       \n",
            " 23  Canadian dollar.1   10899 non-null  float64       \n",
            " 24  Australian dollar   10899 non-null  float64       \n",
            "dtypes: datetime64[ns](1), float64(24)\n",
            "memory usage: 2.1 MB\n"
          ],
          "name": "stdout"
        }
      ]
    },
    {
      "cell_type": "code",
      "metadata": {
        "colab": {
          "base_uri": "https://localhost:8080/"
        },
        "id": "VNzGOSkVsl4_",
        "outputId": "24e5e36f-47b8-498c-f84e-08e375d874e3"
      },
      "source": [
        "df.isnull().sum()"
      ],
      "execution_count": 119,
      "outputs": [
        {
          "output_type": "execute_result",
          "data": {
            "text/plain": [
              "Name                     0\n",
              "US dollar                0\n",
              "Euro                     0\n",
              "Japanese yen             2\n",
              "Pound sterling           0\n",
              "Canadian dollar          2\n",
              "Swiss franc              2\n",
              "Indian rupee             2\n",
              "Chinese renmimbi      1571\n",
              "US dollar.1              0\n",
              "Turkish lira          1045\n",
              "Saudi riyal              2\n",
              "Indonesian rupiah        2\n",
              "UAE dirham               2\n",
              "Thai baht                2\n",
              "Vietnamese dong       2851\n",
              "Egyptian pound        2591\n",
              "Korean won               2\n",
              "Euro.1                   0\n",
              "Russian ruble         3661\n",
              "US dollar.2              0\n",
              "South African rand       2\n",
              "Chinese renmimbi.1    1571\n",
              "Canadian dollar.1        2\n",
              "Australian dollar        2\n",
              "dtype: int64"
            ]
          },
          "metadata": {
            "tags": []
          },
          "execution_count": 119
        }
      ]
    },
    {
      "cell_type": "code",
      "metadata": {
        "colab": {
          "base_uri": "https://localhost:8080/",
          "height": 234
        },
        "id": "FVULftLVMsrM",
        "outputId": "2a2fbabd-12fa-4c00-feaa-97d095a06019"
      },
      "source": [
        "dollar=df[['Name','US dollar']].copy()\n",
        "dollar = dollar.rename(columns={'US dollar': 'Price'})\n",
        "dollar['Date'] = dollar['Name'].dt.date\n",
        "\n",
        "dollarfinal=dollar.drop('Name',axis=1)\n",
        "dollarfinal.set_index('Date', inplace= True)\n",
        "dollarfinal.head()"
      ],
      "execution_count": 120,
      "outputs": [
        {
          "output_type": "execute_result",
          "data": {
            "text/html": [
              "<div>\n",
              "<style scoped>\n",
              "    .dataframe tbody tr th:only-of-type {\n",
              "        vertical-align: middle;\n",
              "    }\n",
              "\n",
              "    .dataframe tbody tr th {\n",
              "        vertical-align: top;\n",
              "    }\n",
              "\n",
              "    .dataframe thead th {\n",
              "        text-align: right;\n",
              "    }\n",
              "</style>\n",
              "<table border=\"1\" class=\"dataframe\">\n",
              "  <thead>\n",
              "    <tr style=\"text-align: right;\">\n",
              "      <th></th>\n",
              "      <th>Price</th>\n",
              "    </tr>\n",
              "    <tr>\n",
              "      <th>Date</th>\n",
              "      <th></th>\n",
              "    </tr>\n",
              "  </thead>\n",
              "  <tbody>\n",
              "    <tr>\n",
              "      <th>1978-12-29</th>\n",
              "      <td>226.00</td>\n",
              "    </tr>\n",
              "    <tr>\n",
              "      <th>1979-01-01</th>\n",
              "      <td>226.00</td>\n",
              "    </tr>\n",
              "    <tr>\n",
              "      <th>1979-01-02</th>\n",
              "      <td>226.80</td>\n",
              "    </tr>\n",
              "    <tr>\n",
              "      <th>1979-01-03</th>\n",
              "      <td>218.60</td>\n",
              "    </tr>\n",
              "    <tr>\n",
              "      <th>1979-01-04</th>\n",
              "      <td>223.15</td>\n",
              "    </tr>\n",
              "  </tbody>\n",
              "</table>\n",
              "</div>"
            ],
            "text/plain": [
              "             Price\n",
              "Date              \n",
              "1978-12-29  226.00\n",
              "1979-01-01  226.00\n",
              "1979-01-02  226.80\n",
              "1979-01-03  218.60\n",
              "1979-01-04  223.15"
            ]
          },
          "metadata": {
            "tags": []
          },
          "execution_count": 120
        }
      ]
    },
    {
      "cell_type": "code",
      "metadata": {
        "colab": {
          "base_uri": "https://localhost:8080/"
        },
        "id": "pGYQlWRBJvH5",
        "outputId": "c60cab28-3941-44f5-c95a-cda3ef314de6"
      },
      "source": [
        "dollarfinal.info()"
      ],
      "execution_count": 121,
      "outputs": [
        {
          "output_type": "stream",
          "text": [
            "<class 'pandas.core.frame.DataFrame'>\n",
            "Index: 10901 entries, 1978-12-29 to 2020-10-09\n",
            "Data columns (total 1 columns):\n",
            " #   Column  Non-Null Count  Dtype  \n",
            "---  ------  --------------  -----  \n",
            " 0   Price   10901 non-null  float64\n",
            "dtypes: float64(1)\n",
            "memory usage: 170.3+ KB\n"
          ],
          "name": "stdout"
        }
      ]
    },
    {
      "cell_type": "code",
      "metadata": {
        "colab": {
          "base_uri": "https://localhost:8080/",
          "height": 513
        },
        "id": "aP5JQgRYNW22",
        "outputId": "16490fd0-4f35-4ef0-8867-d8e1eaf0e4d4"
      },
      "source": [
        "plt.figure(figsize=(20,8))\n",
        "plt.plot(dollarfinal)\n",
        "plt.title('Gold Price in US Dollar')\n",
        "plt.xlabel('Date')\n",
        "plt.ylabel('Price')\n",
        "plt.show()"
      ],
      "execution_count": 122,
      "outputs": [
        {
          "output_type": "display_data",
          "data": {
            "image/png": "[encoded data removed]",
            "text/plain": [
              "<Figure size 1440x576 with 1 Axes>"
            ]
          },
          "metadata": {
            "tags": [],
            "needs_background": "light"
          }
        }
      ]
    },
    {
      "cell_type": "code",
      "metadata": {
        "id": "GltEpXATNeVR"
      },
      "source": [
        "# get data values\n",
        "date = df['Name'].values\n",
        "price = df['US dollar'].values"
      ],
      "execution_count": 124,
      "outputs": []
    },
    {
      "cell_type": "code",
      "metadata": {
        "id": "FJJmZxDSNnaf"
      },
      "source": [
        "def windowed_dataset(series, window_size, batch_size, shuffle_buffer):\n",
        "    series = tf.expand_dims(series, axis=-1)\n",
        "    ds = tf.data.Dataset.from_tensor_slices(series)\n",
        "    ds = ds.window(window_size + 1, shift=1, drop_remainder=True)\n",
        "    ds = ds.flat_map(lambda w: w.batch(window_size + 1))\n",
        "    ds = ds.shuffle(shuffle_buffer)\n",
        "    ds = ds.map(lambda w: (w[:-1], w[-1:]))\n",
        "    return ds.batch(batch_size).prefetch(1)"
      ],
      "execution_count": 125,
      "outputs": []
    },
    {
      "cell_type": "code",
      "metadata": {
        "colab": {
          "base_uri": "https://localhost:8080/"
        },
        "id": "DkZVMWGFNtxx",
        "outputId": "a760506f-6141-43d8-f0c3-f44b0eafcade"
      },
      "source": [
        "x_train, x_test, y_train, y_test = train_test_split(price, date, test_size = 0.2, random_state = 0 , shuffle=False)\n",
        "print(len(x_train), len(x_test))"
      ],
      "execution_count": 126,
      "outputs": [
        {
          "output_type": "stream",
          "text": [
            "8720 2181\n"
          ],
          "name": "stdout"
        }
      ]
    },
    {
      "cell_type": "code",
      "metadata": {
        "id": "Km6DO6y0N6bA"
      },
      "source": [
        "data_x_train = windowed_dataset(x_train, window_size=60, batch_size=100, shuffle_buffer=5000)\n",
        "data_x_test = windowed_dataset(x_test, window_size=60, batch_size=100, shuffle_buffer=5000)\n",
        "\n",
        "model = tf.keras.models.Sequential([\n",
        "  tf.keras.layers.Conv1D(filters=32, kernel_size=5,\n",
        "                      strides=1, padding=\"causal\",\n",
        "                      activation=\"relu\",\n",
        "                      input_shape=[None, 1]),\n",
        "  tf.keras.layers.LSTM(64, return_sequences=True),\n",
        "  tf.keras.layers.LSTM(64, return_sequences=True),\n",
        "  tf.keras.layers.Dense(30, activation=\"relu\"),\n",
        "  tf.keras.layers.Dense(10, activation=\"relu\"),\n",
        "  tf.keras.layers.Dense(1),\n",
        "  tf.keras.layers.Lambda(lambda x: x * 400)\n",
        "])\n",
        "\n",
        "lr_schedule = tf.keras.callbacks.LearningRateScheduler(\n",
        "    lambda epoch: 1e-8 * 10**(epoch / 20))\n",
        "optimizer = tf.keras.optimizers.SGD(learning_rate=1e-8, momentum=0.9)\n",
        "model.compile(loss=tf.keras.losses.Huber(),\n",
        "              optimizer=optimizer,\n",
        "              metrics=[\"mae\"])"
      ],
      "execution_count": 128,
      "outputs": []
    },
    {
      "cell_type": "code",
      "metadata": {
        "colab": {
          "base_uri": "https://localhost:8080/"
        },
        "id": "IaxKDCveN8ES",
        "outputId": "009a7a64-fc47-410e-ce73-b62d22c6db65"
      },
      "source": [
        "max = df['US dollar'].max()\n",
        "print('Max value : ' )\n",
        "print(max)\n",
        "min = df['US dollar'].min()\n",
        "print('Min Value : ')\n",
        "print(min)\n",
        "\n",
        "x = (max - min) * (10 / 100)\n",
        "print(x)"
      ],
      "execution_count": 129,
      "outputs": [
        {
          "output_type": "stream",
          "text": [
            "Max value : \n",
            "2067.15\n",
            "Min Value : \n",
            "216.85\n",
            "185.03000000000003\n"
          ],
          "name": "stdout"
        }
      ]
    },
    {
      "cell_type": "code",
      "metadata": {
        "id": "NbWrgZKdOPls"
      },
      "source": [
        "class myCallback(tf.keras.callbacks.Callback):\n",
        "  def on_epoch_end(self, epoch, logs={}):\n",
        "    if(logs.get('mae')< x):\n",
        "      self.model.stop_training = True\n",
        "      print(\"\\nMAE of the model < 10% of data scale\")\n",
        "callbacks = myCallback()"
      ],
      "execution_count": 130,
      "outputs": []
    },
    {
      "cell_type": "code",
      "metadata": {
        "colab": {
          "base_uri": "https://localhost:8080/"
        },
        "id": "EsOx-6bVPAdY",
        "outputId": "d0180118-b321-4b63-a152-bd390ece711d"
      },
      "source": [
        "tf.keras.backend.set_floatx('float64')\n",
        "history = model.fit(data_x_train ,epochs=500, validation_data=data_x_test, callbacks=[callbacks])"
      ],
      "execution_count": 131,
      "outputs": [
        {
          "output_type": "stream",
          "text": [
            "Epoch 1/500\n",
            "87/87 [==============================] - 17s 151ms/step - loss: 474.0941 - mae: 474.5941 - val_loss: 1319.1362 - val_mae: 1319.6363\n",
            "Epoch 2/500\n",
            "87/87 [==============================] - 13s 139ms/step - loss: 470.7081 - mae: 471.2081 - val_loss: 1315.5542 - val_mae: 1316.0543\n",
            "Epoch 3/500\n",
            "87/87 [==============================] - 13s 140ms/step - loss: 467.6477 - mae: 468.1477 - val_loss: 1312.3882 - val_mae: 1312.8882\n",
            "Epoch 4/500\n",
            "87/87 [==============================] - 13s 140ms/step - loss: 464.7852 - mae: 465.2851 - val_loss: 1309.5581 - val_mae: 1310.0582\n",
            "Epoch 5/500\n",
            "87/87 [==============================] - 13s 140ms/step - loss: 462.0047 - mae: 462.5046 - val_loss: 1306.8688 - val_mae: 1307.3687\n",
            "Epoch 6/500\n",
            "87/87 [==============================] - 13s 139ms/step - loss: 459.2062 - mae: 459.7062 - val_loss: 1304.1794 - val_mae: 1304.6794\n",
            "Epoch 7/500\n",
            "87/87 [==============================] - 13s 138ms/step - loss: 456.2938 - mae: 456.7938 - val_loss: 1301.4022 - val_mae: 1301.9023\n",
            "Epoch 8/500\n",
            "87/87 [==============================] - 13s 140ms/step - loss: 453.0683 - mae: 453.5683 - val_loss: 1297.8732 - val_mae: 1298.3731\n",
            "Epoch 9/500\n",
            "87/87 [==============================] - 13s 138ms/step - loss: 449.9588 - mae: 450.4589 - val_loss: 1294.9386 - val_mae: 1295.4385\n",
            "Epoch 10/500\n",
            "87/87 [==============================] - 13s 142ms/step - loss: 447.0842 - mae: 447.5842 - val_loss: 1292.1178 - val_mae: 1292.6180\n",
            "Epoch 11/500\n",
            "87/87 [==============================] - 13s 137ms/step - loss: 444.2125 - mae: 444.7126 - val_loss: 1289.2759 - val_mae: 1289.7759\n",
            "Epoch 12/500\n",
            "87/87 [==============================] - 13s 137ms/step - loss: 441.3137 - mae: 441.8136 - val_loss: 1286.4010 - val_mae: 1286.9010\n",
            "Epoch 13/500\n",
            "87/87 [==============================] - 12s 136ms/step - loss: 438.3792 - mae: 438.8794 - val_loss: 1283.4884 - val_mae: 1283.9885\n",
            "Epoch 14/500\n",
            "87/87 [==============================] - 13s 137ms/step - loss: 435.4086 - mae: 435.9087 - val_loss: 1280.5347 - val_mae: 1281.0347\n",
            "Epoch 15/500\n",
            "87/87 [==============================] - 13s 137ms/step - loss: 432.3983 - mae: 432.8983 - val_loss: 1277.5339 - val_mae: 1278.0341\n",
            "Epoch 16/500\n",
            "87/87 [==============================] - 13s 137ms/step - loss: 429.3479 - mae: 429.8479 - val_loss: 1274.4795 - val_mae: 1274.9794\n",
            "Epoch 17/500\n",
            "87/87 [==============================] - 13s 137ms/step - loss: 426.2574 - mae: 426.7574 - val_loss: 1271.3667 - val_mae: 1271.8666\n",
            "Epoch 18/500\n",
            "87/87 [==============================] - 13s 137ms/step - loss: 423.1235 - mae: 423.6235 - val_loss: 1268.1953 - val_mae: 1268.6953\n",
            "Epoch 19/500\n",
            "87/87 [==============================] - 13s 137ms/step - loss: 419.9443 - mae: 420.4443 - val_loss: 1264.9757 - val_mae: 1265.4757\n",
            "Epoch 20/500\n",
            "87/87 [==============================] - 13s 137ms/step - loss: 416.7181 - mae: 417.2180 - val_loss: 1261.7273 - val_mae: 1262.2272\n",
            "Epoch 21/500\n",
            "87/87 [==============================] - 12s 136ms/step - loss: 413.4389 - mae: 413.9389 - val_loss: 1258.4521 - val_mae: 1258.9522\n",
            "Epoch 22/500\n",
            "87/87 [==============================] - 13s 137ms/step - loss: 410.0987 - mae: 410.5987 - val_loss: 1255.1442 - val_mae: 1255.6442\n",
            "Epoch 23/500\n",
            "87/87 [==============================] - 12s 136ms/step - loss: 406.7137 - mae: 407.2136 - val_loss: 1251.7831 - val_mae: 1252.2830\n",
            "Epoch 24/500\n",
            "87/87 [==============================] - 13s 136ms/step - loss: 403.3037 - mae: 403.8038 - val_loss: 1248.3220 - val_mae: 1248.8220\n",
            "Epoch 25/500\n",
            "87/87 [==============================] - 12s 135ms/step - loss: 399.8287 - mae: 400.3287 - val_loss: 1244.7860 - val_mae: 1245.2859\n",
            "Epoch 26/500\n",
            "87/87 [==============================] - 12s 134ms/step - loss: 396.2782 - mae: 396.7783 - val_loss: 1241.1753 - val_mae: 1241.6752\n",
            "Epoch 27/500\n",
            "87/87 [==============================] - 12s 136ms/step - loss: 392.6559 - mae: 393.1559 - val_loss: 1237.4960 - val_mae: 1237.9960\n",
            "Epoch 28/500\n",
            "87/87 [==============================] - 13s 137ms/step - loss: 388.9662 - mae: 389.4663 - val_loss: 1233.7524 - val_mae: 1234.2526\n",
            "Epoch 29/500\n",
            "87/87 [==============================] - 13s 137ms/step - loss: 385.2110 - mae: 385.7110 - val_loss: 1229.9495 - val_mae: 1230.4495\n",
            "Epoch 30/500\n",
            "87/87 [==============================] - 13s 137ms/step - loss: 381.3927 - mae: 381.8927 - val_loss: 1226.0975 - val_mae: 1226.5976\n",
            "Epoch 31/500\n",
            "87/87 [==============================] - 13s 138ms/step - loss: 377.5069 - mae: 378.0069 - val_loss: 1222.1727 - val_mae: 1222.6726\n",
            "Epoch 32/500\n",
            "87/87 [==============================] - 13s 137ms/step - loss: 373.5419 - mae: 374.0418 - val_loss: 1218.1696 - val_mae: 1218.6697\n",
            "Epoch 33/500\n",
            "87/87 [==============================] - 12s 136ms/step - loss: 369.4911 - mae: 369.9910 - val_loss: 1214.0875 - val_mae: 1214.5874\n",
            "Epoch 34/500\n",
            "87/87 [==============================] - 12s 135ms/step - loss: 365.3501 - mae: 365.8501 - val_loss: 1209.9208 - val_mae: 1210.4208\n",
            "Epoch 35/500\n",
            "87/87 [==============================] - 13s 138ms/step - loss: 361.1161 - mae: 361.6161 - val_loss: 1205.6578 - val_mae: 1206.1579\n",
            "Epoch 36/500\n",
            "87/87 [==============================] - 13s 137ms/step - loss: 356.7862 - mae: 357.2862 - val_loss: 1201.2908 - val_mae: 1201.7911\n",
            "Epoch 37/500\n",
            "87/87 [==============================] - 13s 139ms/step - loss: 352.3561 - mae: 352.8562 - val_loss: 1196.8353 - val_mae: 1197.3355\n",
            "Epoch 38/500\n",
            "87/87 [==============================] - 13s 138ms/step - loss: 347.8271 - mae: 348.3271 - val_loss: 1192.2888 - val_mae: 1192.7886\n",
            "Epoch 39/500\n",
            "87/87 [==============================] - 13s 138ms/step - loss: 343.1856 - mae: 343.6856 - val_loss: 1187.6466 - val_mae: 1188.1466\n",
            "Epoch 40/500\n",
            "87/87 [==============================] - 13s 138ms/step - loss: 338.4233 - mae: 338.9233 - val_loss: 1182.9081 - val_mae: 1183.4080\n",
            "Epoch 41/500\n",
            "87/87 [==============================] - 13s 137ms/step - loss: 333.5204 - mae: 334.0204 - val_loss: 1178.0518 - val_mae: 1178.5517\n",
            "Epoch 42/500\n",
            "87/87 [==============================] - 13s 137ms/step - loss: 328.4372 - mae: 328.9372 - val_loss: 1173.0045 - val_mae: 1173.5043\n",
            "Epoch 43/500\n",
            "87/87 [==============================] - 13s 138ms/step - loss: 323.1148 - mae: 323.6148 - val_loss: 1167.2347 - val_mae: 1167.7347\n",
            "Epoch 44/500\n",
            "87/87 [==============================] - 13s 140ms/step - loss: 317.6089 - mae: 318.1089 - val_loss: 1161.4084 - val_mae: 1161.9083\n",
            "Epoch 45/500\n",
            "87/87 [==============================] - 13s 139ms/step - loss: 312.0715 - mae: 312.5715 - val_loss: 1155.5828 - val_mae: 1156.0827\n",
            "Epoch 46/500\n",
            "87/87 [==============================] - 13s 140ms/step - loss: 306.5222 - mae: 307.0222 - val_loss: 1149.9954 - val_mae: 1150.4956\n",
            "Epoch 47/500\n",
            "87/87 [==============================] - 13s 138ms/step - loss: 300.8919 - mae: 301.3919 - val_loss: 1144.3281 - val_mae: 1144.8281\n",
            "Epoch 48/500\n",
            "87/87 [==============================] - 13s 140ms/step - loss: 295.1432 - mae: 295.6431 - val_loss: 1138.5341 - val_mae: 1139.0341\n",
            "Epoch 49/500\n",
            "87/87 [==============================] - 13s 140ms/step - loss: 289.2643 - mae: 289.7644 - val_loss: 1132.6035 - val_mae: 1133.1034\n",
            "Epoch 50/500\n",
            "87/87 [==============================] - 13s 141ms/step - loss: 283.2484 - mae: 283.7484 - val_loss: 1126.5358 - val_mae: 1127.0356\n",
            "Epoch 51/500\n",
            "87/87 [==============================] - 13s 139ms/step - loss: 277.1027 - mae: 277.6026 - val_loss: 1120.3324 - val_mae: 1120.8323\n",
            "Epoch 52/500\n",
            "87/87 [==============================] - 13s 141ms/step - loss: 270.8377 - mae: 271.3377 - val_loss: 1113.9945 - val_mae: 1114.4945\n",
            "Epoch 53/500\n",
            "87/87 [==============================] - 13s 139ms/step - loss: 264.4526 - mae: 264.9524 - val_loss: 1107.5216 - val_mae: 1108.0215\n",
            "Epoch 54/500\n",
            "87/87 [==============================] - 13s 140ms/step - loss: 258.0534 - mae: 258.5530 - val_loss: 1101.0061 - val_mae: 1101.5062\n",
            "Epoch 55/500\n",
            "87/87 [==============================] - 13s 141ms/step - loss: 251.7667 - mae: 252.2661 - val_loss: 1094.5007 - val_mae: 1095.0006\n",
            "Epoch 56/500\n",
            "87/87 [==============================] - 13s 141ms/step - loss: 245.7041 - mae: 246.2032 - val_loss: 1088.0815 - val_mae: 1088.5816\n",
            "Epoch 57/500\n",
            "87/87 [==============================] - 13s 140ms/step - loss: 239.9761 - mae: 240.4752 - val_loss: 1081.7620 - val_mae: 1082.2618\n",
            "Epoch 58/500\n",
            "87/87 [==============================] - 13s 140ms/step - loss: 234.6332 - mae: 235.1320 - val_loss: 1075.6730 - val_mae: 1076.1730\n",
            "Epoch 59/500\n",
            "87/87 [==============================] - 13s 140ms/step - loss: 229.7254 - mae: 230.2246 - val_loss: 1069.7473 - val_mae: 1070.2472\n",
            "Epoch 60/500\n",
            "87/87 [==============================] - 13s 140ms/step - loss: 225.1464 - mae: 225.6457 - val_loss: 1063.9312 - val_mae: 1064.4312\n",
            "Epoch 61/500\n",
            "87/87 [==============================] - 13s 142ms/step - loss: 220.7775 - mae: 221.2768 - val_loss: 1058.1320 - val_mae: 1058.6320\n",
            "Epoch 62/500\n",
            "87/87 [==============================] - 13s 141ms/step - loss: 216.5538 - mae: 217.0529 - val_loss: 1052.2861 - val_mae: 1052.7862\n",
            "Epoch 63/500\n",
            "87/87 [==============================] - 13s 142ms/step - loss: 212.2630 - mae: 212.7620 - val_loss: 1045.6111 - val_mae: 1046.1110\n",
            "Epoch 64/500\n",
            "87/87 [==============================] - 13s 143ms/step - loss: 208.1918 - mae: 208.6909 - val_loss: 1039.1951 - val_mae: 1039.6950\n",
            "Epoch 65/500\n",
            "87/87 [==============================] - 13s 140ms/step - loss: 204.6644 - mae: 205.1634 - val_loss: 1033.4386 - val_mae: 1033.9386\n",
            "Epoch 66/500\n",
            "87/87 [==============================] - 13s 142ms/step - loss: 201.5711 - mae: 202.0697 - val_loss: 1028.0342 - val_mae: 1028.5342\n",
            "Epoch 67/500\n",
            "87/87 [==============================] - 13s 142ms/step - loss: 198.9544 - mae: 199.4532 - val_loss: 1023.1182 - val_mae: 1023.6182\n",
            "Epoch 68/500\n",
            "87/87 [==============================] - 13s 142ms/step - loss: 196.7425 - mae: 197.2412 - val_loss: 1018.5709 - val_mae: 1019.0708\n",
            "Epoch 69/500\n",
            "87/87 [==============================] - 13s 144ms/step - loss: 194.8702 - mae: 195.3690 - val_loss: 1014.3913 - val_mae: 1014.8914\n",
            "Epoch 70/500\n",
            "87/87 [==============================] - 13s 142ms/step - loss: 193.2804 - mae: 193.7793 - val_loss: 1010.4443 - val_mae: 1010.9444\n",
            "Epoch 71/500\n",
            "87/87 [==============================] - 13s 141ms/step - loss: 191.9131 - mae: 192.4119 - val_loss: 1006.8015 - val_mae: 1007.3016\n",
            "Epoch 72/500\n",
            "87/87 [==============================] - 13s 140ms/step - loss: 190.7409 - mae: 191.2394 - val_loss: 1003.4943 - val_mae: 1003.9943\n",
            "Epoch 73/500\n",
            "87/87 [==============================] - 13s 142ms/step - loss: 189.7593 - mae: 190.2581 - val_loss: 1000.3691 - val_mae: 1000.8691\n",
            "Epoch 74/500\n",
            "87/87 [==============================] - 13s 144ms/step - loss: 188.9336 - mae: 189.4321 - val_loss: 997.5609 - val_mae: 998.0608\n",
            "Epoch 75/500\n",
            "87/87 [==============================] - 13s 144ms/step - loss: 188.2690 - mae: 188.7674 - val_loss: 995.0309 - val_mae: 995.5310\n",
            "Epoch 76/500\n",
            "87/87 [==============================] - 13s 147ms/step - loss: 187.7393 - mae: 188.2374 - val_loss: 992.8649 - val_mae: 993.3649\n",
            "Epoch 77/500\n",
            "87/87 [==============================] - 13s 144ms/step - loss: 187.3225 - mae: 187.8198 - val_loss: 990.8864 - val_mae: 991.3864\n",
            "Epoch 78/500\n",
            "87/87 [==============================] - 13s 146ms/step - loss: 187.0258 - mae: 187.5228 - val_loss: 989.3384 - val_mae: 989.8385\n",
            "Epoch 79/500\n",
            "87/87 [==============================] - 13s 144ms/step - loss: 186.8171 - mae: 187.3146 - val_loss: 988.0640 - val_mae: 988.5640\n",
            "Epoch 80/500\n",
            "87/87 [==============================] - 13s 144ms/step - loss: 186.6466 - mae: 187.1442 - val_loss: 987.0021 - val_mae: 987.5022\n",
            "Epoch 81/500\n",
            "87/87 [==============================] - 13s 144ms/step - loss: 186.5002 - mae: 186.9981 - val_loss: 986.0551 - val_mae: 986.5551\n",
            "Epoch 82/500\n",
            "87/87 [==============================] - 13s 144ms/step - loss: 186.3522 - mae: 186.8500 - val_loss: 985.2176 - val_mae: 985.7175\n",
            "Epoch 83/500\n",
            "87/87 [==============================] - 13s 144ms/step - loss: 186.2158 - mae: 186.7137 - val_loss: 984.4302 - val_mae: 984.9302\n",
            "Epoch 84/500\n",
            "87/87 [==============================] - 13s 144ms/step - loss: 186.0851 - mae: 186.5830 - val_loss: 983.8049 - val_mae: 984.3048\n",
            "Epoch 85/500\n",
            "87/87 [==============================] - 13s 144ms/step - loss: 185.9731 - mae: 186.4710 - val_loss: 983.1239 - val_mae: 983.6239\n",
            "Epoch 86/500\n",
            "87/87 [==============================] - 13s 144ms/step - loss: 185.8866 - mae: 186.3849 - val_loss: 982.4949 - val_mae: 982.9949\n",
            "Epoch 87/500\n",
            "87/87 [==============================] - 13s 144ms/step - loss: 185.8037 - mae: 186.3017 - val_loss: 981.8544 - val_mae: 982.3544\n",
            "Epoch 88/500\n",
            "87/87 [==============================] - 13s 143ms/step - loss: 185.7067 - mae: 186.2048 - val_loss: 980.9183 - val_mae: 981.4183\n",
            "Epoch 89/500\n",
            "87/87 [==============================] - 13s 139ms/step - loss: 185.5714 - mae: 186.0695 - val_loss: 979.9682 - val_mae: 980.4682\n",
            "Epoch 90/500\n",
            "87/87 [==============================] - 12s 135ms/step - loss: 185.4308 - mae: 185.9290 - val_loss: 979.2243 - val_mae: 979.7243\n",
            "Epoch 91/500\n",
            "87/87 [==============================] - 13s 138ms/step - loss: 185.2496 - mae: 185.7480 - val_loss: 978.5613 - val_mae: 979.0612\n",
            "Epoch 92/500\n",
            "87/87 [==============================] - 13s 137ms/step - loss: 185.1686 - mae: 185.6669 - val_loss: 978.0732 - val_mae: 978.5734\n",
            "Epoch 93/500\n",
            "87/87 [==============================] - 12s 136ms/step - loss: 185.1001 - mae: 185.5983 - val_loss: 977.6384 - val_mae: 978.1385\n",
            "Epoch 94/500\n",
            "87/87 [==============================] - 12s 135ms/step - loss: 185.0375 - mae: 185.5357 - val_loss: 977.2632 - val_mae: 977.7631\n",
            "Epoch 95/500\n",
            "87/87 [==============================] - 12s 135ms/step - loss: 184.9708 - mae: 185.4690 - val_loss: 976.8682 - val_mae: 977.3684\n",
            "Epoch 96/500\n",
            "87/87 [==============================] - 12s 137ms/step - loss: 184.9199 - mae: 185.4181 - val_loss: 976.5293 - val_mae: 977.0293\n",
            "Epoch 97/500\n",
            "87/87 [==============================] - 13s 141ms/step - loss: 184.8645 - mae: 185.3628 - val_loss: 976.2148 - val_mae: 976.7149\n",
            "Epoch 98/500\n",
            "87/87 [==============================] - 13s 144ms/step - loss: 184.8228 - mae: 185.3211 - val_loss: 975.9461 - val_mae: 976.4461\n",
            "Epoch 99/500\n",
            "87/87 [==============================] - 13s 140ms/step - loss: 184.7717 - mae: 185.2701 - val_loss: 975.6679 - val_mae: 976.1679\n",
            "Epoch 100/500\n",
            "87/87 [==============================] - 13s 137ms/step - loss: 184.7220 - mae: 185.2202 - val_loss: 975.4645 - val_mae: 975.9644\n",
            "Epoch 101/500\n",
            "87/87 [==============================] - 13s 138ms/step - loss: 184.6721 - mae: 185.1704 - val_loss: 975.2885 - val_mae: 975.7884\n",
            "Epoch 102/500\n",
            "87/87 [==============================] - 13s 142ms/step - loss: 184.6306 - mae: 185.1289 - val_loss: 975.0484 - val_mae: 975.5484\n",
            "Epoch 103/500\n",
            "87/87 [==============================] - 13s 140ms/step - loss: 184.5855 - mae: 185.0839 - val_loss: 974.9089 - val_mae: 975.4089\n",
            "Epoch 104/500\n",
            "87/87 [==============================] - 13s 137ms/step - loss: 184.5438 - mae: 185.0421 - val_loss: 974.7016 - val_mae: 975.2016\n",
            "Epoch 105/500\n",
            "87/87 [==============================] - 13s 139ms/step - loss: 184.4957 - mae: 184.9939 - val_loss: 974.5460 - val_mae: 975.0460\n",
            "\n",
            "MAE of the model < 10% of data scale\n"
          ],
          "name": "stdout"
        }
      ]
    },
    {
      "cell_type": "code",
      "metadata": {
        "colab": {
          "base_uri": "https://localhost:8080/",
          "height": 295
        },
        "id": "pSw4RxKnYZlz",
        "outputId": "1237d2d6-f44b-43a7-8a78-c9d5f6834f75"
      },
      "source": [
        "# plot of mae\n",
        "import matplotlib.pyplot as plt\n",
        "plt.plot(history.history['mae'])\n",
        "plt.plot(history.history['val_mae'])\n",
        "plt.title('MAE')\n",
        "plt.ylabel('mae')\n",
        "plt.xlabel('epoch')\n",
        "plt.legend(['train', 'test'], loc='upper left')\n",
        "plt.show()"
      ],
      "execution_count": 132,
      "outputs": [
        {
          "output_type": "display_data",
          "data": {
            "image/png": "[encoded data removed]",
            "text/plain": [
              "<Figure size 432x288 with 1 Axes>"
            ]
          },
          "metadata": {
            "tags": [],
            "needs_background": "light"
          }
        }
      ]
    },
    {
      "cell_type": "code",
      "metadata": {
        "colab": {
          "base_uri": "https://localhost:8080/",
          "height": 295
        },
        "id": "eRLdtaEyYkso",
        "outputId": "97647747-507d-44bc-8744-98aac8541e34"
      },
      "source": [
        "# plot of loss\n",
        "plt.plot(history.history['loss'])\n",
        "plt.plot(history.history['val_loss'])\n",
        "plt.title('Model Loss')\n",
        "plt.ylabel('loss')\n",
        "plt.xlabel('epoch')\n",
        "plt.legend(['train', 'test'], loc='upper left')\n",
        "plt.show()"
      ],
      "execution_count": 133,
      "outputs": [
        {
          "output_type": "display_data",
          "data": {
            "image/png": "[encoded data removed]",
            "text/plain": [
              "<Figure size 432x288 with 1 Axes>"
            ]
          },
          "metadata": {
            "tags": [],
            "needs_background": "light"
          }
        }
      ]
    }
  ]
}